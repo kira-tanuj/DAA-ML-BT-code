{
  "nbformat": 4,
  "nbformat_minor": 0,
  "metadata": {
    "colab": {
      "provenance": []
    },
    "kernelspec": {
      "name": "python3",
      "display_name": "Python 3"
    },
    "language_info": {
      "name": "python"
    }
  },
  "cells": [
    {
      "cell_type": "code",
      "execution_count": 1,
      "metadata": {
        "colab": {
          "base_uri": "https://localhost:8080/",
          "height": 0
        },
        "id": "bFf2cEeIdw5q",
        "outputId": "9af18787-4aa0-4801-9c33-713f8129ec02"
      },
      "outputs": [
        {
          "output_type": "stream",
          "name": "stdout",
          "text": [
            "How many terms? 5\n",
            "Fibonacci sequence:\n",
            "0\n",
            "1\n",
            "1\n",
            "2\n",
            "3\n"
          ]
        }
      ],
      "source": [
        "# Program to display the Fibonacci sequence up to n-th term Non Recursive Method \n",
        "\n",
        "nterms = int(input(\"How many terms? \"))\n",
        "\n",
        "# first two terms\n",
        "n1, n2 = 0, 1\n",
        "count = 0\n",
        "\n",
        "# check if the number of terms is valid\n",
        "if nterms <= 0:\n",
        "   print(\"Please enter a positive integer\")\n",
        "# if there is only one term, return n1\n",
        "elif nterms == 1:\n",
        "   print(\"Fibonacci sequence upto\",nterms,\":\")\n",
        "   print(n1)\n",
        "# generate fibonacci sequence\n",
        "else:\n",
        "   print(\"Fibonacci sequence:\")\n",
        "   while count < nterms:\n",
        "       print(n1)\n",
        "       nth = n1 + n2\n",
        "       # update values\n",
        "       n1 = n2\n",
        "       n2 = nth\n",
        "       count += 1"
      ]
    },
    {
      "cell_type": "code",
      "source": [
        "# A Huffman Tree Node\n",
        "import heapq\n",
        "\n",
        "class node:\n",
        "\tdef __init__(self, freq, symbol, left=None, right=None):\n",
        "\t\t# frequency of symbol\n",
        "\t\tself.freq = freq\n",
        "\n",
        "\t\t# symbol name (character)\n",
        "\t\tself.symbol = symbol\n",
        "\n",
        "\t\t# node left of current node\n",
        "\t\tself.left = left\n",
        "\n",
        "\t\t# node right of current node\n",
        "\t\tself.right = right\n",
        "\n",
        "\t\t# tree direction (0/1)\n",
        "\t\tself.huff = ''\n",
        "\t\t\n",
        "\tdef __lt__(self, nxt):\n",
        "\t\treturn self.freq < nxt.freq\n",
        "\t\t\n",
        "\n",
        "# utility function to print huffman\n",
        "# codes for all symbols in the newly\n",
        "# created Huffman tree\n",
        "def printNodes(node, val=''):\n",
        "\t\n",
        "\t# huffman code for current node\n",
        "\tnewVal = val + str(node.huff)\n",
        "\n",
        "\t# if node is not an edge node\n",
        "\t# then traverse inside it\n",
        "\tif(node.left):\n",
        "\t\tprintNodes(node.left, newVal)\n",
        "\tif(node.right):\n",
        "\t\tprintNodes(node.right, newVal)\n",
        "\n",
        "\t\t# if node is edge node then\n",
        "\t\t# display its huffman code\n",
        "\tif(not node.left and not node.right):\n",
        "\t\tprint(f\"{node.symbol} -> {newVal}\")\n",
        "\n",
        "\n",
        "# characters for huffman tree\n",
        "chars = ['a', 'b', 'c', 'd', 'e', 'f']\n",
        "\n",
        "# frequency of characters\n",
        "freq = [ 5, 9, 12, 13, 16, 45]\n",
        "\n",
        "# list containing unused nodes\n",
        "nodes = []\n",
        "\n",
        "# converting characters and frequencies\n",
        "# into huffman tree nodes\n",
        "for x in range(len(chars)):\n",
        "\theapq.heappush(nodes, node(freq[x], chars[x]))\n",
        "\n",
        "while len(nodes) > 1:\n",
        "\t\n",
        "\t# sort all the nodes in ascending order\n",
        "\t# based on their frequency\n",
        "\tleft = heapq.heappop(nodes)\n",
        "\tright = heapq.heappop(nodes)\n",
        "\n",
        "\t# assign directional value to these nodes\n",
        "\tleft.huff = 0\n",
        "\tright.huff = 1\n",
        "\n",
        "\t# combine the 2 smallest nodes to create\n",
        "\t# new node as their parent\n",
        "\tnewNode = node(left.freq+right.freq, left.symbol+right.symbol, left, right)\n",
        "\n",
        "\theapq.heappush(nodes, newNode)\n",
        "\n",
        "# Huffman Tree is ready!\n",
        "printNodes(nodes[0])\n"
      ],
      "metadata": {
        "colab": {
          "base_uri": "https://localhost:8080/",
          "height": 0
        },
        "id": "hb6IWEFXd5GW",
        "outputId": "e084f4d6-6dc4-409e-e319-c550922421c6"
      },
      "execution_count": 3,
      "outputs": [
        {
          "output_type": "stream",
          "name": "stdout",
          "text": [
            "f -> 0\n",
            "c -> 100\n",
            "d -> 101\n",
            "a -> 1100\n",
            "b -> 1101\n",
            "e -> 111\n"
          ]
        }
      ]
    },
    {
      "cell_type": "code",
      "source": [
        "# Python program to display the Fibonacci sequence Recurisve method \n",
        "\n",
        "def recur_fibo(n):\n",
        "   if n <= 1:\n",
        "       return n\n",
        "   else:\n",
        "       return(recur_fibo(n-1) + recur_fibo(n-2))\n",
        "\n",
        "nterms = 10\n",
        "\n",
        "# check if the number of terms is valid\n",
        "if nterms <= 0:\n",
        "   print(\"Plese enter a positive integer\")\n",
        "else:\n",
        "   print(\"Fibonacci sequence:\")\n",
        "   for i in range(nterms):\n",
        "       print(recur_fibo(i))\n"
      ],
      "metadata": {
        "colab": {
          "base_uri": "https://localhost:8080/",
          "height": 0
        },
        "id": "n_Auz_qrfKlW",
        "outputId": "f3b6b6c7-e134-4f91-d554-f3e9aeb5e81d"
      },
      "execution_count": 4,
      "outputs": [
        {
          "output_type": "stream",
          "name": "stdout",
          "text": [
            "Fibonacci sequence:\n",
            "0\n",
            "1\n",
            "1\n",
            "2\n",
            "3\n",
            "5\n",
            "8\n",
            "13\n",
            "21\n",
            "34\n"
          ]
        }
      ]
    },
    {
      "cell_type": "code",
      "source": [
        "#Fractional Knapsack \n",
        "# Structure for an item which stores weight and\n",
        "# corresponding value of Item\n",
        "class Item:\n",
        "\tdef __init__(self, value, weight):\n",
        "\t\tself.value = value\n",
        "\t\tself.weight = weight\n",
        "\n",
        "# Main greedy function to solve problem\n",
        "def fractionalKnapsack(W, arr):\n",
        "\n",
        "\t# Sorting Item on basis of ratio\n",
        "\tarr.sort(key=lambda x: (x.value/x.weight), reverse=True)\n",
        "\n",
        "\t# Result(value in Knapsack)\n",
        "\tfinalvalue = 0.0\n",
        "\n",
        "\t# Looping through all Items\n",
        "\tfor item in arr:\n",
        "\n",
        "\t\t# If adding Item won't overflow,\n",
        "\t\t# add it completely\n",
        "\t\tif item.weight <= W:\n",
        "\t\t\tW -= item.weight\n",
        "\t\t\tfinalvalue += item.value\n",
        "\n",
        "\t\t# If we can't add current Item,\n",
        "\t\t# add fractional part of it\n",
        "\t\telse:\n",
        "\t\t\tfinalvalue += item.value * W / item.weight\n",
        "\t\t\tbreak\n",
        "\t\n",
        "\t# Returning final value\n",
        "\treturn finalvalue\n",
        "\n",
        "\n",
        "# Driver Code\n",
        "if __name__ == \"__main__\":\n",
        "\n",
        "\tW = 50\n",
        "\tarr = [Item(60, 10), Item(100, 20), Item(120, 30)]\n",
        "\n",
        "\t# Function call\n",
        "\tmax_val = fractionalKnapsack(W, arr)\n",
        "\tprint(max_val)\n"
      ],
      "metadata": {
        "colab": {
          "base_uri": "https://localhost:8080/",
          "height": 0
        },
        "id": "ogtERkdSfM2E",
        "outputId": "e5b45ec5-2b5d-4d72-b663-8591b19738df"
      },
      "execution_count": 7,
      "outputs": [
        {
          "output_type": "stream",
          "name": "stdout",
          "text": [
            "240.0\n"
          ]
        }
      ]
    },
    {
      "cell_type": "code",
      "source": [
        "# Python3 program to solve N Queen\n",
        "# Problem using backtracking\n",
        "global N\n",
        "N = 4\n",
        "\n",
        "def printSolution(board):\n",
        "\tfor i in range(N):\n",
        "\t\tfor j in range(N):\n",
        "\t\t\tprint(board[i][j], end = \" \")\n",
        "\t\tprint()\n",
        "\n",
        "# A utility function to check if a queen can\n",
        "# be placed on board[row][col]. Note that this\n",
        "# function is called when \"col\" queens are\n",
        "# already placed in columns from 0 to col -1.\n",
        "# So we need to check only left side for\n",
        "# attacking queens\n",
        "def isSafe(board, row, col):\n",
        "\n",
        "\t# Check this row on left side\n",
        "\tfor i in range(col):\n",
        "\t\tif board[row][i] == 1:\n",
        "\t\t\treturn False\n",
        "\n",
        "\t# Check upper diagonal on left side\n",
        "\tfor i, j in zip(range(row, -1, -1),\n",
        "\t\t\t\t\trange(col, -1, -1)):\n",
        "\t\tif board[i][j] == 1:\n",
        "\t\t\treturn False\n",
        "\n",
        "\t# Check lower diagonal on left side\n",
        "\tfor i, j in zip(range(row, N, 1),\n",
        "\t\t\t\t\trange(col, -1, -1)):\n",
        "\t\tif board[i][j] == 1:\n",
        "\t\t\treturn False\n",
        "\n",
        "\treturn True\n",
        "\n",
        "def solveNQUtil(board, col):\n",
        "\t\n",
        "\t# base case: If all queens are placed\n",
        "\t# then return true\n",
        "\tif col >= N:\n",
        "\t\treturn True\n",
        "\n",
        "\t# Consider this column and try placing\n",
        "\t# this queen in all rows one by one\n",
        "\tfor i in range(N):\n",
        "\n",
        "\t\tif isSafe(board, i, col):\n",
        "\t\t\t\n",
        "\t\t\t# Place this queen in board[i][col]\n",
        "\t\t\tboard[i][col] = 1\n",
        "\n",
        "\t\t\t# recur to place rest of the queens\n",
        "\t\t\tif solveNQUtil(board, col + 1) == True:\n",
        "\t\t\t\treturn True\n",
        "\n",
        "\t\t\t# If placing queen in board[i][col\n",
        "\t\t\t# doesn't lead to a solution, then\n",
        "\t\t\t# queen from board[i][col]\n",
        "\t\t\tboard[i][col] = 0\n",
        "\n",
        "\t# if the queen can not be placed in any row in\n",
        "\t# this column col then return false\n",
        "\treturn False\n",
        "\n",
        "# This function solves the N Queen problem using\n",
        "# Backtracking. It mainly uses solveNQUtil() to\n",
        "# solve the problem. It returns false if queens\n",
        "# cannot be placed, otherwise return true and\n",
        "# placement of queens in the form of 1s.\n",
        "# note that there may be more than one\n",
        "# solutions, this function prints one of the\n",
        "# feasible solutions.\n",
        "def solveNQ():\n",
        "\tboard = [ [0, 0, 0, 0],\n",
        "\t\t\t[0, 0, 0, 0],\n",
        "\t\t\t[0, 0, 0, 0],\n",
        "\t\t\t[0, 0, 0, 0] ]\n",
        "\n",
        "\tif solveNQUtil(board, 0) == False:\n",
        "\t\tprint (\"Solution does not exist\")\n",
        "\t\treturn False\n",
        "\n",
        "\tprintSolution(board)\n",
        "\treturn True\n",
        "\n",
        "# Driver Code\n",
        "solveNQ()\n",
        "\n",
        "# This code is contributed by Divyanshu Mehta\n"
      ],
      "metadata": {
        "colab": {
          "base_uri": "https://localhost:8080/",
          "height": 0
        },
        "id": "ksb5_2Jnf5Xk",
        "outputId": "5fa0bf9e-3402-454e-bdde-f35b1a43f7d8"
      },
      "execution_count": 6,
      "outputs": [
        {
          "output_type": "stream",
          "name": "stdout",
          "text": [
            "0 0 1 0 \n",
            "1 0 0 0 \n",
            "0 0 0 1 \n",
            "0 1 0 0 \n"
          ]
        },
        {
          "output_type": "execute_result",
          "data": {
            "text/plain": [
              "True"
            ]
          },
          "metadata": {},
          "execution_count": 6
        }
      ]
    },
    {
      "cell_type": "code",
      "source": [],
      "metadata": {
        "id": "nB8F-Uk7jZ26"
      },
      "execution_count": null,
      "outputs": []
    }
  ]
}